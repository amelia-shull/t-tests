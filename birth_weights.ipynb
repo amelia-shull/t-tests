{
 "cells": [
  {
   "cell_type": "markdown",
   "metadata": {},
   "source": [
    "# Birth Weight Data\n",
    "_Is there an observable difference in baby weight for smokers / non-smokers?_"
   ]
  },
  {
   "cell_type": "code",
   "execution_count": 3,
   "metadata": {},
   "outputs": [],
   "source": [
    "# Set up\n",
    "import pandas as pd\n",
    "import matplotlib.pyplot as plt\n",
    "import numpy as np\n",
    "from scipy import stats"
   ]
  },
  {
   "cell_type": "code",
   "execution_count": 4,
   "metadata": {},
   "outputs": [],
   "source": [
    "# Load data\n",
    "bw_data = pd.read_csv(\"./birth_weights.csv\")"
   ]
  },
  {
   "cell_type": "code",
   "execution_count": 17,
   "metadata": {},
   "outputs": [
    {
     "data": {
      "image/png": "[encoded data removed]",
      "text/plain": [
       "<Figure size 432x288 with 1 Axes>"
      ]
     },
     "metadata": {},
     "output_type": "display_data"
    }
   ],
   "source": [
    "# What is the distribution of weights by smoker/nonsmoker (create overlapping histograms)\n",
    "smokers = bw_data[bw_data.smoke == \"smoker\"]\n",
    "non_smokers = bw_data[bw_data.smoke != \"smoker\"]\n",
    "plt.figure()\n",
    "plt.hist(smokers.weight, alpha = .3, label = \"Smokers\")\n",
    "plt.hist(non_smokers.weight, alpha=.3, label = \"Non Smokers\")\n",
    "plt.title(\"Distribution of birth weights by Mother's smoking status\")\n",
    "plt.legend()\n",
    "plt.show()"
   ]
  },
  {
   "cell_type": "code",
   "execution_count": 19,
   "metadata": {},
   "outputs": [
    {
     "data": {
      "text/plain": [
       "smoke\n",
       "nonsmoker    7.1795\n",
       "smoker       6.7790\n",
       "Name: weight, dtype: float64"
      ]
     },
     "execution_count": 19,
     "metadata": {},
     "output_type": "execute_result"
    }
   ],
   "source": [
    "# Calculate the mean birth weight by group\n",
    "bw_data.groupby(\"smoke\").mean().weight"
   ]
  },
  {
   "cell_type": "code",
   "execution_count": 21,
   "metadata": {},
   "outputs": [],
   "source": [
    "# Are theses differences significant? Use a `stats.ttest_ind` to find out!\n",
    "tmp = stats.ttest_ind(smokers.weight, non_smokers.weight)"
   ]
  },
  {
   "cell_type": "code",
   "execution_count": 30,
   "metadata": {},
   "outputs": [
    {
     "data": {
      "text/plain": [
       "Ttest_indResult(statistic=-0.747975799968487, pvalue=0.45566163821015615)"
      ]
     },
     "execution_count": 30,
     "metadata": {},
     "output_type": "execute_result"
    }
   ],
   "source": [
    "# Are differences in weight by sex significant?\n",
    "stats.ttest_ind(bw_data[bw_data.sexBaby != \"male\"].weight, bw_data[bw_data.sexBaby == \"male\"].weight)"
   ]
  },
  {
   "cell_type": "code",
   "execution_count": null,
   "metadata": {},
   "outputs": [],
   "source": []
  }
 ],
 "metadata": {
  "kernelspec": {
   "display_name": "Python 3",
   "language": "python",
   "name": "python3"
  },
  "language_info": {
   "codemirror_mode": {
    "name": "ipython",
    "version": 3
   },
   "file_extension": ".py",
   "mimetype": "text/x-python",
   "name": "python",
   "nbconvert_exporter": "python",
   "pygments_lexer": "ipython3",
   "version": "3.6.5"
  }
 },
 "nbformat": 4,
 "nbformat_minor": 2
}

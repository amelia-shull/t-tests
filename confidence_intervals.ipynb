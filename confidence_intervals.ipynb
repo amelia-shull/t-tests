{
 "cells": [
  {
   "cell_type": "markdown",
   "metadata": {},
   "source": [
    "# Simulating Confidence intervals\n",
    "Generate 95% confidence intervals for the mean of a _sample_ (and test that it contains the true mean 95% of the time!)"
   ]
  },
  {
   "cell_type": "code",
   "execution_count": 11,
   "metadata": {},
   "outputs": [],
   "source": [
    "# Import packages\n",
    "import numpy as np"
   ]
  },
  {
   "cell_type": "code",
   "execution_count": 12,
   "metadata": {},
   "outputs": [],
   "source": [
    "# Construct an entire population (e.g., 10,000 opinions that range from 0 - 100 on a topic)\n",
    "entire_population = np.random.uniform(0, 100, 10000)"
   ]
  },
  {
   "cell_type": "code",
   "execution_count": 13,
   "metadata": {},
   "outputs": [],
   "source": [
    "# Write a function to sample from the population, and see if the CI of the mean of the sample contains the true mean\n",
    "# It should return true/false indicating \n",
    "def sample_and_test(pop, sample_size = 1000):\n",
    "    # Sample from the population\n",
    "    sample = np.random.choice(pop, replace=False, size=sample_size)\n",
    "    \n",
    "    # Calculate the true mean\n",
    "    true_mean = np.mean(pop)\n",
    "    \n",
    "    # Calculate the sample mean\n",
    "    mean_sample = np.mean(sample)\n",
    "    \n",
    "    # Calculate an estimate of the standard error, based on the sample variance and sample size\n",
    "    se = np.sqrt(np.var(sample)) / np.sqrt(sample_size) # estimate of variance in the *estimate* of the mean\n",
    "    \n",
    "    # Return T/F (if the CIs contain the mean)\n",
    "    return(mean_sample + 1.96 * se > true_mean and mean_sample - 1.96 * se < true_mean)"
   ]
  },
  {
   "cell_type": "code",
   "execution_count": 14,
   "metadata": {},
   "outputs": [
    {
     "data": {
      "text/plain": [
       "0.955"
      ]
     },
     "execution_count": 14,
     "metadata": {},
     "output_type": "execute_result"
    }
   ],
   "source": [
    "# Run the function 1000 times and see how often the mean is in the CIs\n",
    "results = [sample_and_test(entire_population) for i in range(1000)]\n",
    "np.mean(results) # makes sense!"
   ]
  }
 ],
 "metadata": {
  "kernelspec": {
   "display_name": "Python 3",
   "language": "python",
   "name": "python3"
  },
  "language_info": {
   "codemirror_mode": {
    "name": "ipython",
    "version": 3
   },
   "file_extension": ".py",
   "mimetype": "text/x-python",
   "name": "python",
   "nbconvert_exporter": "python",
   "pygments_lexer": "ipython3",
   "version": "3.6.5"
  }
 },
 "nbformat": 4,
 "nbformat_minor": 2
}
